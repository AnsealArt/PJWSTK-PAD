{
 "cells": [
  {
   "cell_type": "code",
   "execution_count": 62,
   "metadata": {},
   "outputs": [],
   "source": [
    "import numpy as np\n",
    "import pandas as pd\n",
    "\n",
    "%matplotlib inline \n",
    "import matplotlib.pyplot as plt \n",
    "import seaborn as sns\n",
    "sns.set() # set plot styles"
   ]
  },
  {
   "cell_type": "markdown",
   "metadata": {},
   "source": [
    "#### Utwórz tablicę zawierającą wzrost prezydentów USA i wykonaj analizę."
   ]
  },
  {
   "cell_type": "code",
   "execution_count": 63,
   "metadata": {},
   "outputs": [
    {
     "name": "stdout",
     "output_type": "stream",
     "text": [
      "Average USA President height is 179.74 cm\n",
      "Standard Deviation for USA Presidents Height is 6.93 cm\n",
      "USA Presidents lowest and highest heights are 163 cm and 193 cm\n",
      "USA Presidents height's 25th, 50th and 75th percentiles are: 174.25, 182.0, 183.0\n"
     ]
    }
   ],
   "source": [
    "data_usa = pd.read_csv('president_heights.csv')\n",
    "heights = np.array(data_usa['height(cm)'])\n",
    "\n",
    "print(f\"Average USA President height is {round(np.mean(heights), 2)} cm\")\n",
    "print(f\"Standard Deviation for USA Presidents Height is {round(np.std(heights), 2)} cm\")\n",
    "print(f\"USA Presidents lowest and highest heights are {np.min(heights)} cm and {np.max(heights)} cm\")\n",
    "print(f\"USA Presidents height's 25th, 50th and 75th percentiles are: {np.percentile(heights, 25)}, {np.percentile(heights, 50)}, {np.percentile(heights, 75)}\")\n",
    "\n"
   ]
  },
  {
   "cell_type": "markdown",
   "metadata": {},
   "source": [
    "#### Wgraj dane z pliku Zadanie_2.csv, znajdź wektory własne, wartości własne oraz oblicz macierz odwrotną dla macierzy z pliku"
   ]
  },
  {
   "cell_type": "code",
   "execution_count": 64,
   "metadata": {},
   "outputs": [],
   "source": [
    "data_zad2 = np.genfromtxt('Zadanie_2.csv', delimiter=\";\")"
   ]
  },
  {
   "cell_type": "code",
   "execution_count": 65,
   "metadata": {},
   "outputs": [
    {
     "name": "stdout",
     "output_type": "stream",
     "text": [
      "[104.34960192 +0.j         -23.35660516+18.84992811j\n",
      " -23.35660516-18.84992811j  15.92989017 +0.j\n",
      "  -4.99456452 +0.j           0.35205717 +5.80125175j\n",
      "   0.35205717 -5.80125175j  -1.03383491 +0.j\n",
      "   3.87900166 +1.42651533j   3.87900166 -1.42651533j]\n"
     ]
    }
   ],
   "source": [
    "# Check if is symmetric\n",
    "is_symetric = (data_zad2==data_zad2.T).all()\n",
    "if is_symetric:\n",
    "    eigen = np.linalg.eig(data_zad2)\n",
    "else:\n",
    "    eigen = np.linalg.eigvals(data_zad2)\n",
    "\n",
    "print(eigen)\n",
    "\n"
   ]
  },
  {
   "cell_type": "code",
   "execution_count": 66,
   "metadata": {},
   "outputs": [
    {
     "name": "stdout",
     "output_type": "stream",
     "text": [
      "[[ 0.47461371  0.13269253 -0.24726695 -0.82965177  0.28250384 -0.17012825\n",
      "   0.58274426  0.83686705  0.4146721  -1.56942847]\n",
      " [-0.38032531 -0.11226789  0.23216372  0.58853747 -0.2508954   0.10174485\n",
      "  -0.40729564 -0.58325689 -0.2335154   1.11832726]\n",
      " [ 0.13559662  0.58950334 -0.24709855 -0.58789838 -0.30170699 -0.12721938\n",
      "   0.23740295  1.01003036 -0.02151387 -0.64590149]\n",
      " [ 0.01425207  0.14570726 -0.04557569 -0.12721972 -0.08945184 -0.03756624\n",
      "   0.03910376  0.23606066 -0.01436771 -0.11345749]\n",
      " [-0.09473246  0.01725249  0.19145597  0.32960274 -0.28626296  0.08348529\n",
      "  -0.37577603 -0.27295934 -0.25855803  0.74691827]\n",
      " [ 0.16387032  0.10075684 -0.15404907 -0.29794662  0.16916877 -0.02827782\n",
      "   0.20469921  0.28036265  0.15086178 -0.5882585 ]\n",
      " [ 0.04288003  0.02246462 -0.0366803  -0.09024915  0.04322146 -0.01047861\n",
      "   0.06167348  0.07009721  0.0367806  -0.14185925]\n",
      " [-0.26858433 -0.21167346  0.25168367  0.55607234 -0.16804333  0.01066975\n",
      "  -0.22435849 -0.52957038 -0.15757224  0.77302113]\n",
      " [-0.15583541 -0.13041404  0.0984558   0.3150966  -0.09916278 -0.04426337\n",
      "  -0.20832614 -0.18404388 -0.04309498  0.45794224]\n",
      " [-0.05970783 -0.11342903  0.09122544  0.11908074 -0.00311646  0.02370807\n",
      "  -0.07526552 -0.06924544 -0.10963836  0.16553689]]\n"
     ]
    }
   ],
   "source": [
    "inv_matrix = np.linalg.inv(data_zad2)\n",
    "print(inv_matrix)"
   ]
  },
  {
   "cell_type": "markdown",
   "metadata": {},
   "source": [
    "#### Wczytaj plik Seatle2014 i wykonaj analizę"
   ]
  },
  {
   "cell_type": "code",
   "execution_count": 67,
   "metadata": {},
   "outputs": [
    {
     "name": "stdout",
     "output_type": "stream",
     "text": [
      "Number days without rain: 215\n",
      "Number days with rain: 150\n",
      "Days with more than 0.5 inches: 37\n",
      "Rainy days with < 0.2 inches: 290\n",
      "\n",
      "\n",
      "Median precip on rainy days in 2014 (inches): 0.195\n",
      "Median precip on summer days in 2014 (inches): 0.0\n",
      "Maximum precip on summer days in 2014 (inches): 0.85\n",
      "Median precip on non-summer days in 2014 (inches): 0.0\n"
     ]
    }
   ],
   "source": [
    "rainfall = pd.read_csv('Seattle2014.csv')['PRCP'].values \n",
    "inches = rainfall / 254.0 # 1/10mm -> inches \n",
    "#print(inches.shape)\n",
    "#print(rainfall)\n",
    "\n",
    "#plt.hist(inches, 40); \n",
    "\n",
    "print(\"Number days without rain:\",       np.count_nonzero(inches == 0)) \n",
    "print(\"Number days with rain:\",          np.count_nonzero(inches != 0)) \n",
    "print(\"Days with more than 0.5 inches:\", np.count_nonzero(inches > 0.5)) \n",
    "print(\"Rainy days with < 0.2 inches:\",   np.count_nonzero(inches < 0.2)) \n",
    "print(\"\\n\")\n",
    "\n",
    "summer_days = list(range(172, 263))\n",
    "non_summer_days = list(list(range(0, 173)) + list(range(262,365)))\n",
    "print(\"Median precip on rainy days in 2014 (inches):\",      round( np.median(inches[inches != 0]),              3))\n",
    "print(\"Median precip on summer days in 2014 (inches):\",     round( np.median(np.take(inches, summer_days    )), 3))\n",
    "print(\"Maximum precip on summer days in 2014 (inches):\",    round( np.max   (np.take(inches, summer_days    )), 3))\n",
    "print(\"Median precip on non-summer days in 2014 (inches):\", round( np.median(np.take(inches, non_summer_days)), 3))"
   ]
  },
  {
   "cell_type": "markdown",
   "metadata": {},
   "source": [
    "#### Wykonaj operacje na wektorach"
   ]
  },
  {
   "cell_type": "code",
   "execution_count": 68,
   "metadata": {},
   "outputs": [
    {
     "name": "stdout",
     "output_type": "stream",
     "text": [
      "A+B = [0 6 3 9]\n",
      "A-B = [0 0 1 1]\n",
      "A*4 = [ 0 12  8 20]\n",
      "A*B = [ 0  9  2 20]\n",
      "Length of B = 4\n"
     ]
    }
   ],
   "source": [
    "A = [0,3,2,5]\n",
    "B = [0,3,1,4]\n",
    "\n",
    "print(\"A+B =\", np.add(A, B))\n",
    "print(\"A-B =\", np.subtract(A, B))\n",
    "print(\"A*4 =\", np.multiply(A, 4))\n",
    "print(\"A*B =\", np.multiply(A, B))\n",
    "print(\"Length of B =\", np.prod(np.array(B).shape))"
   ]
  },
  {
   "cell_type": "code",
   "execution_count": null,
   "metadata": {},
   "outputs": [],
   "source": []
  }
 ],
 "metadata": {
  "kernelspec": {
   "display_name": "Python 3.10.5 64-bit",
   "language": "python",
   "name": "python3"
  },
  "language_info": {
   "codemirror_mode": {
    "name": "ipython",
    "version": 3
   },
   "file_extension": ".py",
   "mimetype": "text/x-python",
   "name": "python",
   "nbconvert_exporter": "python",
   "pygments_lexer": "ipython3",
   "version": "3.10.5"
  },
  "orig_nbformat": 4,
  "vscode": {
   "interpreter": {
    "hash": "26de051ba29f2982a8de78e945f0abaf191376122a1563185a90213a26c5da77"
   }
  }
 },
 "nbformat": 4,
 "nbformat_minor": 2
}
